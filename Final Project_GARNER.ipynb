{
 "cells": [
  {
   "cell_type": "markdown",
   "id": "7150a2bc",
   "metadata": {},
   "source": [
    "                                                                                                   Niya Garner\n",
    "                                                                                                   CMSE 492 001\n",
    "                                                                                                   April 2023\n",
    "                                                                                                  \n",
    "                                                                           \n",
    "                                                                                                \n",
    " # CMSE 492: Final Project"
   ]
  },
  {
   "cell_type": "markdown",
   "id": "61126c1d",
   "metadata": {},
   "source": [
    "<h1><font color='green'> Machine Learning Algorithms: Gene Splicing</font></h1>"
   ]
  },
  {
   "cell_type": "markdown",
   "id": "dff30a56",
   "metadata": {},
   "source": [
    "## 1. Background & Motivation\n",
    "\n",
    "Recognizing splice junctions is an essential task in molecular biology that allows us to identify the areas in the DNA sequence that will be removed  during the process of protein synthesis in complex organisms. The issue that arises is how time consuming and tedious this process is. The goal of my project is to create a machine learning algorithm that streamlines the process of recognizing the boundaries between exons and introns. Furthermore,  I think this project is useful because the model is acting like a virtual ribonucleoprotein (snRNP) because they can accurately recognize the start and end points of the intron. In gene sequencing only the exon portion of the DNA becomes mature RNA and is expressed. The intron portion of the DNA sequence gets spliced out. I will be creating several different machine learning algorithms to compare their accuracies and choose the best model for my problem. "
   ]
  },
  {
   "cell_type": "markdown",
   "id": "48b84e05",
   "metadata": {},
   "source": [
    "## 2. Methodology\n",
    "\n",
    "\n",
    "The original dataset is sourced from The University of California School of Information and Computer Science \n",
    "\n",
    "#### Column Description\n",
    "\n",
    "Region: Specific semgment of the DNA Sequence. EI (Extron), IE (Intron, N (Neither)  \n",
    " \n",
    "Participant Id: DNA donor's identification \n",
    " \n",
    "DNA Sequence: The precise arrangement of bases or nucleotides in a DNA molecule\n",
    "\n",
    "\n",
    "### 2.1 Data Processing"
   ]
  },
  {
   "cell_type": "code",
   "execution_count": 1,
   "id": "03064773",
   "metadata": {},
   "outputs": [],
   "source": [
    "#Importing necessary Libraries\n",
    "import numpy as np\n",
    "import pandas as pd\n",
    "from tensorflow import keras\n",
    "import tensorflow as tf\n",
    "from sklearn.compose import ColumnTransformer\n",
    "from sklearn.preprocessing import OneHotEncoder\n",
    "from sklearn.model_selection import train_test_split\n",
    "from sklearn.preprocessing import StandardScaler\n",
    "import sklearn.preprocessing as preprocessing\n",
    "import matplotlib.pyplot as plt\n",
    "import seaborn as sns\n",
    "from sklearn.multiclass import OneVsRestClassifier\n",
    "from sklearn.neighbors import KNeighborsClassifier\n",
    "from sklearn.linear_model import LogisticRegression\n",
    "from sklearn.svm import SVC\n",
    "from sklearn.ensemble import RandomForestClassifier\n",
    "from sklearn.ensemble import GradientBoostingClassifier\n",
    "from sklearn.ensemble import RandomForestClassifier\n",
    "from sklearn.metrics import confusion_matrix as CM\n",
    "from sklearn.metrics import classification_report\n",
    "from sklearn.metrics import roc_curve\n",
    "from sklearn.metrics import roc_auc_score\n",
    "from sklearn.model_selection import cross_val_score, KFold\n",
    "from sklearn.model_selection import StratifiedKFold\n",
    "from statistics import mean"
   ]
  },
  {
   "cell_type": "code",
   "execution_count": 2,
   "id": "ff1bca01",
   "metadata": {},
   "outputs": [
    {
     "data": {
      "text/html": [
       "<div>\n",
       "<style scoped>\n",
       "    .dataframe tbody tr th:only-of-type {\n",
       "        vertical-align: middle;\n",
       "    }\n",
       "\n",
       "    .dataframe tbody tr th {\n",
       "        vertical-align: top;\n",
       "    }\n",
       "\n",
       "    .dataframe thead th {\n",
       "        text-align: right;\n",
       "    }\n",
       "</style>\n",
       "<table border=\"1\" class=\"dataframe\">\n",
       "  <thead>\n",
       "    <tr style=\"text-align: right;\">\n",
       "      <th></th>\n",
       "      <th>Region</th>\n",
       "      <th>Participant ID</th>\n",
       "      <th>DNA Sequence</th>\n",
       "    </tr>\n",
       "  </thead>\n",
       "  <tbody>\n",
       "    <tr>\n",
       "      <th>0</th>\n",
       "      <td>EI</td>\n",
       "      <td>ATRINS-DONOR-905</td>\n",
       "      <td>AGACCCGCCGGGAGGCGGAGGACCTGCAGGG...</td>\n",
       "    </tr>\n",
       "    <tr>\n",
       "      <th>1</th>\n",
       "      <td>EI</td>\n",
       "      <td>BABAPOE-DONOR-30</td>\n",
       "      <td>GAGGTGAAGGACGTCCTTCCCCAGGAGCCGG...</td>\n",
       "    </tr>\n",
       "    <tr>\n",
       "      <th>2</th>\n",
       "      <td>EI</td>\n",
       "      <td>BABAPOE-DONOR-867</td>\n",
       "      <td>GGGCTGCGTTGCTGGTCACATTCCTGGCAGGT...</td>\n",
       "    </tr>\n",
       "    <tr>\n",
       "      <th>3</th>\n",
       "      <td>EI</td>\n",
       "      <td>BABAPOE-DONOR-2817</td>\n",
       "      <td>GCTCAGCCCCCAGGTCACCCAGGAACTGACGTG...</td>\n",
       "    </tr>\n",
       "    <tr>\n",
       "      <th>4</th>\n",
       "      <td>EI</td>\n",
       "      <td>CHPIGECA-DONOR-378</td>\n",
       "      <td>CAGACTGGGTGGACAACAAAACCTTCAGCGGTA...</td>\n",
       "    </tr>\n",
       "  </tbody>\n",
       "</table>\n",
       "</div>"
      ],
      "text/plain": [
       "  Region          Participant ID  \\\n",
       "0     EI        ATRINS-DONOR-905   \n",
       "1     EI        BABAPOE-DONOR-30   \n",
       "2     EI       BABAPOE-DONOR-867   \n",
       "3     EI      BABAPOE-DONOR-2817   \n",
       "4     EI      CHPIGECA-DONOR-378   \n",
       "\n",
       "                                        DNA Sequence  \n",
       "0                 AGACCCGCCGGGAGGCGGAGGACCTGCAGGG...  \n",
       "1                 GAGGTGAAGGACGTCCTTCCCCAGGAGCCGG...  \n",
       "2                GGGCTGCGTTGCTGGTCACATTCCTGGCAGGT...  \n",
       "3               GCTCAGCCCCCAGGTCACCCAGGAACTGACGTG...  \n",
       "4               CAGACTGGGTGGACAACAAAACCTTCAGCGGTA...  "
      ]
     },
     "execution_count": 2,
     "metadata": {},
     "output_type": "execute_result"
    }
   ],
   "source": [
    "#Loading Dataset & adding column headers\n",
    "\n",
    "data = pd.read_csv(\"splice.data\")\n",
    "data.columns =['Region', 'Participant ID', 'DNA Sequence']\n",
    "data.head()"
   ]
  },
  {
   "cell_type": "code",
   "execution_count": 3,
   "id": "7ab75ffa",
   "metadata": {},
   "outputs": [
    {
     "data": {
      "image/png": "[encoded data removed]",
      "text/plain": [
       "<Figure size 576x360 with 1 Axes>"
      ]
     },
     "metadata": {
      "needs_background": "light"
     },
     "output_type": "display_data"
    }
   ],
   "source": [
    "# Create a plot showcasing the NO. of Variables in each Category\n",
    "plt.figure(figsize=(8,5))\n",
    "sns.countplot(x ='Region', data= data, order= data['Region'].value_counts().index).set(\n",
    "    title='No. of DNA Sequences per Region')\n",
    "plt.show()"
   ]
  },
  {
   "cell_type": "code",
   "execution_count": 4,
   "id": "022082a0",
   "metadata": {},
   "outputs": [
    {
     "data": {
      "image/png": "[encoded data removed]",
      "text/plain": [
       "<Figure size 576x360 with 1 Axes>"
      ]
     },
     "metadata": {},
     "output_type": "display_data"
    }
   ],
   "source": [
    "counts = data['Region'].value_counts()\n",
    "labels  = data['Region'].unique()\n",
    "plt.figure(1, figsize=(8,5))\n",
    "cmap = plt.get_cmap('tab20')\n",
    "\n",
    "plt.pie(counts, labels=labels, autopct='%1.1f%%', shadow=True)\n",
    "plt.title('Region Distribution')\n",
    "plt.show()"
   ]
  },
  {
   "cell_type": "code",
   "execution_count": 5,
   "id": "fe5bcc8d",
   "metadata": {},
   "outputs": [
    {
     "name": "stdout",
     "output_type": "stream",
     "text": [
      "['               AGACCCGCCGGGAGGCGGAGGACCTGCAGGGTGAGCCCCACCGCCCCTCCGTGCCCCCGC'\n",
      " '               GAGGTGAAGGACGTCCTTCCCCAGGAGCCGGTGAGAAGCGCAGTCGGGGGCACGGGGATG'\n",
      " '              GGGCTGCGTTGCTGGTCACATTCCTGGCAGGTATGGGGCGGGGCTTGCTCGGTTTTCCCC'\n",
      " ...\n",
      " '                TCTCGGGGGCGGCCGGCGCGGCGGGGAGCGGTCCCCGGCCGCGGCCCCGACGTGTGTGTC'\n",
      " '                 ATTCTACTTAGTAAACATAATTTCTTGTGCTAGATAACCAAATTAAGAAAACCAAAACAA'\n",
      " '                AGGCTGCCTATCAGAAGGTGGTGGCTGGTGTGGCTGCTGCTCTGGCTCACAAGTACCATT']\n",
      "['EI' 'EI' 'EI' ... 'N' 'N' 'N']\n"
     ]
    }
   ],
   "source": [
    "#Generating Independent Variable Vectors\n",
    "x = data.iloc[:,-1].values\n",
    "\n",
    "#Generating Dependent Variable Vectors\n",
    "y = data.iloc[:,0].values\n",
    "\n",
    "# Use later for cross validation\n",
    "y_og = data.iloc[:,0].values\n",
    "\n",
    "print(x)\n",
    "print(y_og)"
   ]
  },
  {
   "cell_type": "code",
   "execution_count": 6,
   "id": "f6d8229f",
   "metadata": {},
   "outputs": [
    {
     "name": "stdout",
     "output_type": "stream",
     "text": [
      "The original data\n",
      "['               AGACCCGCCGGGAGGCGGAGGACCTGCAGGGTGAGCCCCACCGCCCCTCCGTGCCCCCGC'\n",
      " '               GAGGTGAAGGACGTCCTTCCCCAGGAGCCGGTGAGAAGCGCAGTCGGGGGCACGGGGATG'\n",
      " '              GGGCTGCGTTGCTGGTCACATTCCTGGCAGGTATGGGGCGGGGCTTGCTCGGTTTTCCCC'\n",
      " ...\n",
      " '                TCTCGGGGGCGGCCGGCGCGGCGGGGAGCGGTCCCCGGCCGCGGCCCCGACGTGTGTGTC'\n",
      " '                 ATTCTACTTAGTAAACATAATTTCTTGTGCTAGATAACCAAATTAAGAAAACCAAAACAA'\n",
      " '                AGGCTGCCTATCAGAAGGTGGTGGCTGGTGTGGCTGCTGCTCTGGCTCACAAGTACCATT']\n",
      "The transform data using OneHotEncoder\n",
      "[[0. 0. 0. ... 0. 0. 0.]\n",
      " [0. 0. 0. ... 0. 0. 0.]\n",
      " [0. 0. 0. ... 0. 0. 0.]\n",
      " ...\n",
      " [0. 0. 0. ... 0. 0. 0.]\n",
      " [0. 0. 0. ... 0. 0. 0.]\n",
      " [0. 0. 0. ... 0. 0. 0.]]\n"
     ]
    }
   ],
   "source": [
    "#Encoding Categorical Variable DNA Sequence\n",
    "\n",
    "x = np.array(x)\n",
    "\n",
    "labelEnc = preprocessing.LabelEncoder()\n",
    "new_x = labelEnc.fit_transform(x)\n",
    "onehotEnc = preprocessing.OneHotEncoder()\n",
    "onehotEnc.fit(new_x.reshape(-1, 1))\n",
    "x_trans = onehotEnc.transform(new_x.reshape(-1, 1))\n",
    "print(\"The original data\")\n",
    "print(x)\n",
    "print(\"The transform data using OneHotEncoder\")\n",
    "print(x_trans.toarray())\n",
    "\n",
    "# Code sourced from https://www.educative.io/blog/one-hot-encoding"
   ]
  },
  {
   "cell_type": "code",
   "execution_count": 7,
   "id": "2e1f9e1e",
   "metadata": {},
   "outputs": [
    {
     "name": "stdout",
     "output_type": "stream",
     "text": [
      "The original data\n",
      "['EI' 'EI' 'EI' ... 'N' 'N' 'N']\n",
      "The transform data using OneHotEncoder\n",
      "[[1. 0. 0.]\n",
      " [1. 0. 0.]\n",
      " [1. 0. 0.]\n",
      " ...\n",
      " [0. 0. 1.]\n",
      " [0. 0. 1.]\n",
      " [0. 0. 1.]]\n"
     ]
    }
   ],
   "source": [
    "#Encoding Categorical Variable Region\n",
    "y = np.array(y)\n",
    "\n",
    "labelEnc = preprocessing.LabelEncoder()\n",
    "new_y = labelEnc.fit_transform(y)\n",
    "onehotEnc = preprocessing.OneHotEncoder()\n",
    "onehotEnc.fit(new_y.reshape(-1, 1))\n",
    "y_trans = onehotEnc.transform(new_y.reshape(-1, 1))\n",
    "print(\"The original data\")\n",
    "print(y)\n",
    "print(\"The transform data using OneHotEncoder\")\n",
    "print(y_trans.toarray())"
   ]
  },
  {
   "cell_type": "code",
   "execution_count": 8,
   "id": "ab4f5d9b",
   "metadata": {},
   "outputs": [],
   "source": [
    "#Assignning encoded data as original varibales\n",
    "\n",
    "x = x_trans.toarray()\n",
    "y = y_trans.toarray()"
   ]
  },
  {
   "cell_type": "code",
   "execution_count": 9,
   "id": "3dd4d90a",
   "metadata": {},
   "outputs": [
    {
     "data": {
      "text/plain": [
       "638"
      ]
     },
     "execution_count": 9,
     "metadata": {},
     "output_type": "execute_result"
    }
   ],
   "source": [
    "#Splitting dataset into training and testing dataset\n",
    "\n",
    "x_train,x_test,y_train,y_test = train_test_split(x,y,test_size = 0.2,random_state = 2)\n",
    "\n",
    "#Performing Feature Scaling\n",
    "\n",
    "sc = StandardScaler()\n",
    "x_train = sc.fit_transform(x_train)\n",
    "x_test = sc.transform(x_test)\n",
    "\n",
    "len(x_test)"
   ]
  },
  {
   "cell_type": "markdown",
   "id": "a77a2e07",
   "metadata": {},
   "source": [
    "### 2.2 Developing & Training Different Machine Learning Algorithms"
   ]
  },
  {
   "cell_type": "markdown",
   "id": "190ff3ea",
   "metadata": {},
   "source": [
    "#### 2.2.1 Creating Artificial Neural Network"
   ]
  },
  {
   "cell_type": "code",
   "execution_count": 10,
   "id": "a00a1e4f",
   "metadata": {},
   "outputs": [
    {
     "name": "stdout",
     "output_type": "stream",
     "text": [
      "Epoch 1/100\n",
      "80/80 [==============================] - 1s 2ms/step - loss: 1.0699 - accuracy: 0.4567\n",
      "Epoch 2/100\n",
      "80/80 [==============================] - 0s 1ms/step - loss: 0.9575 - accuracy: 0.5092\n",
      "Epoch 3/100\n",
      "80/80 [==============================] - 0s 1ms/step - loss: 0.7451 - accuracy: 0.6025\n",
      "Epoch 4/100\n",
      "80/80 [==============================] - 0s 1ms/step - loss: 0.4214 - accuracy: 0.8577\n",
      "Epoch 5/100\n",
      "80/80 [==============================] - 0s 1ms/step - loss: 0.1687 - accuracy: 0.9635\n",
      "Epoch 6/100\n",
      "80/80 [==============================] - 0s 1ms/step - loss: 0.0732 - accuracy: 0.9863\n",
      "Epoch 7/100\n",
      "80/80 [==============================] - 0s 1ms/step - loss: 0.0433 - accuracy: 0.9933\n",
      "Epoch 8/100\n",
      "80/80 [==============================] - 0s 1ms/step - loss: 0.0299 - accuracy: 0.9957\n",
      "Epoch 9/100\n",
      "80/80 [==============================] - 0s 1ms/step - loss: 0.0208 - accuracy: 0.9976\n",
      "Epoch 10/100\n",
      "80/80 [==============================] - 0s 1ms/step - loss: 0.0202 - accuracy: 0.9957\n",
      "Epoch 11/100\n",
      "80/80 [==============================] - 0s 2ms/step - loss: 0.0155 - accuracy: 0.9965\n",
      "Epoch 12/100\n",
      "80/80 [==============================] - 0s 2ms/step - loss: 0.0116 - accuracy: 0.9988\n",
      "Epoch 13/100\n",
      "80/80 [==============================] - 0s 1ms/step - loss: 0.0110 - accuracy: 0.9969\n",
      "Epoch 14/100\n",
      "80/80 [==============================] - 0s 2ms/step - loss: 0.0105 - accuracy: 0.9973\n",
      "Epoch 15/100\n",
      "80/80 [==============================] - 0s 2ms/step - loss: 0.0089 - accuracy: 0.9984\n",
      "Epoch 16/100\n",
      "80/80 [==============================] - 0s 2ms/step - loss: 0.0112 - accuracy: 0.9973\n",
      "Epoch 17/100\n",
      "80/80 [==============================] - 0s 1ms/step - loss: 0.0075 - accuracy: 0.9988\n",
      "Epoch 18/100\n",
      "80/80 [==============================] - 0s 1ms/step - loss: 0.0052 - accuracy: 0.9988\n",
      "Epoch 19/100\n",
      "80/80 [==============================] - 0s 1ms/step - loss: 0.0065 - accuracy: 0.9988\n",
      "Epoch 20/100\n",
      "80/80 [==============================] - 0s 2ms/step - loss: 0.0057 - accuracy: 0.9988\n",
      "Epoch 21/100\n",
      "80/80 [==============================] - 0s 2ms/step - loss: 0.0062 - accuracy: 0.9988\n",
      "Epoch 22/100\n",
      "80/80 [==============================] - 0s 2ms/step - loss: 0.0034 - accuracy: 0.9996\n",
      "Epoch 23/100\n",
      "80/80 [==============================] - 0s 2ms/step - loss: 0.0041 - accuracy: 0.9996\n",
      "Epoch 24/100\n",
      "80/80 [==============================] - 0s 2ms/step - loss: 0.0039 - accuracy: 0.9988\n",
      "Epoch 25/100\n",
      "80/80 [==============================] - 0s 2ms/step - loss: 0.0040 - accuracy: 0.9988\n",
      "Epoch 26/100\n",
      "80/80 [==============================] - 0s 2ms/step - loss: 0.0023 - accuracy: 1.0000\n",
      "Epoch 27/100\n",
      "80/80 [==============================] - 0s 2ms/step - loss: 0.0020 - accuracy: 1.0000\n",
      "Epoch 28/100\n",
      "80/80 [==============================] - 0s 2ms/step - loss: 0.0022 - accuracy: 1.0000\n",
      "Epoch 29/100\n",
      "80/80 [==============================] - 0s 2ms/step - loss: 0.0016 - accuracy: 1.0000\n",
      "Epoch 30/100\n",
      "80/80 [==============================] - 0s 2ms/step - loss: 0.0024 - accuracy: 0.9996\n",
      "Epoch 31/100\n",
      "80/80 [==============================] - 0s 2ms/step - loss: 0.0018 - accuracy: 0.9996\n",
      "Epoch 32/100\n",
      "80/80 [==============================] - 0s 2ms/step - loss: 0.0017 - accuracy: 0.9992\n",
      "Epoch 33/100\n",
      "80/80 [==============================] - 0s 2ms/step - loss: 8.5703e-04 - accuracy: 1.0000\n",
      "Epoch 34/100\n",
      "80/80 [==============================] - 0s 2ms/step - loss: 0.0017 - accuracy: 1.0000\n",
      "Epoch 35/100\n",
      "80/80 [==============================] - 0s 2ms/step - loss: 0.0015 - accuracy: 1.0000\n",
      "Epoch 36/100\n",
      "80/80 [==============================] - 0s 2ms/step - loss: 9.5758e-04 - accuracy: 1.0000\n",
      "Epoch 37/100\n",
      "80/80 [==============================] - 0s 2ms/step - loss: 0.0021 - accuracy: 0.9992\n",
      "Epoch 38/100\n",
      "80/80 [==============================] - 0s 2ms/step - loss: 8.0605e-04 - accuracy: 0.9996\n",
      "Epoch 39/100\n",
      "80/80 [==============================] - 0s 2ms/step - loss: 8.7797e-04 - accuracy: 1.0000\n",
      "Epoch 40/100\n",
      "80/80 [==============================] - 0s 2ms/step - loss: 0.0013 - accuracy: 0.9996\n",
      "Epoch 41/100\n",
      "80/80 [==============================] - 0s 2ms/step - loss: 0.0020 - accuracy: 0.9992\n",
      "Epoch 42/100\n",
      "80/80 [==============================] - 0s 2ms/step - loss: 8.1080e-04 - accuracy: 1.0000\n",
      "Epoch 43/100\n",
      "80/80 [==============================] - 0s 2ms/step - loss: 8.0513e-04 - accuracy: 1.0000\n",
      "Epoch 44/100\n",
      "80/80 [==============================] - 0s 2ms/step - loss: 3.4928e-04 - accuracy: 1.0000\n",
      "Epoch 45/100\n",
      "80/80 [==============================] - 0s 2ms/step - loss: 0.0015 - accuracy: 0.9996\n",
      "Epoch 46/100\n",
      "80/80 [==============================] - 0s 2ms/step - loss: 4.3358e-04 - accuracy: 1.0000\n",
      "Epoch 47/100\n",
      "80/80 [==============================] - 0s 2ms/step - loss: 0.0011 - accuracy: 0.9996\n",
      "Epoch 48/100\n",
      "80/80 [==============================] - 0s 4ms/step - loss: 9.5536e-04 - accuracy: 0.9996\n",
      "Epoch 49/100\n",
      "80/80 [==============================] - 0s 3ms/step - loss: 0.0011 - accuracy: 0.9996\n",
      "Epoch 50/100\n",
      "80/80 [==============================] - 0s 2ms/step - loss: 0.0023 - accuracy: 0.9992\n",
      "Epoch 51/100\n",
      "80/80 [==============================] - 0s 2ms/step - loss: 0.0011 - accuracy: 0.9996\n",
      "Epoch 52/100\n",
      "80/80 [==============================] - 0s 2ms/step - loss: 0.0018 - accuracy: 0.9988\n",
      "Epoch 53/100\n",
      "80/80 [==============================] - 0s 2ms/step - loss: 0.0056 - accuracy: 0.9984\n",
      "Epoch 54/100\n",
      "80/80 [==============================] - 0s 2ms/step - loss: 8.3616e-04 - accuracy: 0.9996\n",
      "Epoch 55/100\n",
      "80/80 [==============================] - 0s 2ms/step - loss: 0.0019 - accuracy: 0.9996\n",
      "Epoch 56/100\n",
      "80/80 [==============================] - 0s 2ms/step - loss: 0.0014 - accuracy: 0.9992\n",
      "Epoch 57/100\n",
      "80/80 [==============================] - 0s 2ms/step - loss: 0.0011 - accuracy: 0.9996\n",
      "Epoch 58/100\n",
      "80/80 [==============================] - 0s 3ms/step - loss: 0.0011 - accuracy: 0.9996\n",
      "Epoch 59/100\n",
      "80/80 [==============================] - 0s 2ms/step - loss: 6.3625e-04 - accuracy: 1.0000\n",
      "Epoch 60/100\n",
      "80/80 [==============================] - 0s 2ms/step - loss: 0.0010 - accuracy: 1.0000\n",
      "Epoch 61/100\n",
      "80/80 [==============================] - 0s 2ms/step - loss: 4.6108e-04 - accuracy: 1.0000\n",
      "Epoch 62/100\n",
      "80/80 [==============================] - 0s 3ms/step - loss: 5.1601e-04 - accuracy: 1.0000\n",
      "Epoch 63/100\n",
      "80/80 [==============================] - 0s 3ms/step - loss: 9.1516e-04 - accuracy: 0.9996\n",
      "Epoch 64/100\n",
      "80/80 [==============================] - 0s 3ms/step - loss: 9.5384e-04 - accuracy: 0.9992\n",
      "Epoch 65/100\n",
      "80/80 [==============================] - 0s 3ms/step - loss: 4.4555e-04 - accuracy: 1.0000\n",
      "Epoch 66/100\n",
      "80/80 [==============================] - 0s 2ms/step - loss: 5.6782e-04 - accuracy: 0.9996\n",
      "Epoch 67/100\n",
      "80/80 [==============================] - 0s 2ms/step - loss: 1.7060e-04 - accuracy: 1.0000\n",
      "Epoch 68/100\n",
      "80/80 [==============================] - 0s 2ms/step - loss: 3.0989e-04 - accuracy: 1.0000\n",
      "Epoch 69/100\n",
      "80/80 [==============================] - 0s 2ms/step - loss: 5.2802e-04 - accuracy: 0.9996\n",
      "Epoch 70/100\n",
      "80/80 [==============================] - 0s 2ms/step - loss: 2.2133e-04 - accuracy: 1.0000\n",
      "Epoch 71/100\n",
      "80/80 [==============================] - 0s 3ms/step - loss: 8.1914e-04 - accuracy: 1.0000\n",
      "Epoch 72/100\n",
      "80/80 [==============================] - 0s 3ms/step - loss: 5.3558e-04 - accuracy: 1.0000\n",
      "Epoch 73/100\n",
      "80/80 [==============================] - 0s 3ms/step - loss: 4.8146e-04 - accuracy: 1.0000\n",
      "Epoch 74/100\n",
      "80/80 [==============================] - 0s 3ms/step - loss: 9.0274e-04 - accuracy: 0.9996\n",
      "Epoch 75/100\n",
      "80/80 [==============================] - 0s 3ms/step - loss: 9.0184e-04 - accuracy: 0.9996\n",
      "Epoch 76/100\n",
      "80/80 [==============================] - 0s 3ms/step - loss: 8.6993e-04 - accuracy: 0.9996\n",
      "Epoch 77/100\n",
      "80/80 [==============================] - 0s 2ms/step - loss: 0.0015 - accuracy: 0.9992\n",
      "Epoch 78/100\n",
      "80/80 [==============================] - 0s 2ms/step - loss: 3.3602e-04 - accuracy: 1.0000\n",
      "Epoch 79/100\n",
      "80/80 [==============================] - 0s 2ms/step - loss: 3.4748e-04 - accuracy: 1.0000\n",
      "Epoch 80/100\n",
      "80/80 [==============================] - 0s 2ms/step - loss: 3.3624e-04 - accuracy: 1.0000\n",
      "Epoch 81/100\n",
      "80/80 [==============================] - 0s 2ms/step - loss: 4.4015e-04 - accuracy: 0.9996\n",
      "Epoch 82/100\n",
      "80/80 [==============================] - 0s 2ms/step - loss: 8.2740e-04 - accuracy: 0.9996\n",
      "Epoch 83/100\n",
      "80/80 [==============================] - 0s 2ms/step - loss: 9.6574e-04 - accuracy: 0.9996\n",
      "Epoch 84/100\n",
      "80/80 [==============================] - 0s 2ms/step - loss: 2.1441e-04 - accuracy: 1.0000\n",
      "Epoch 85/100\n",
      "80/80 [==============================] - 0s 2ms/step - loss: 4.5633e-04 - accuracy: 1.0000\n",
      "Epoch 86/100\n",
      "80/80 [==============================] - 0s 2ms/step - loss: 4.3269e-04 - accuracy: 1.0000\n",
      "Epoch 87/100\n",
      "80/80 [==============================] - 0s 2ms/step - loss: 1.0544e-04 - accuracy: 1.0000\n",
      "Epoch 88/100\n",
      "80/80 [==============================] - 0s 2ms/step - loss: 2.4377e-04 - accuracy: 1.0000\n",
      "Epoch 89/100\n",
      "80/80 [==============================] - 0s 2ms/step - loss: 4.4233e-04 - accuracy: 1.0000\n",
      "Epoch 90/100\n",
      "80/80 [==============================] - 0s 2ms/step - loss: 2.1002e-05 - accuracy: 1.0000\n",
      "Epoch 91/100\n",
      "80/80 [==============================] - 0s 2ms/step - loss: 3.6301e-04 - accuracy: 1.0000\n",
      "Epoch 92/100\n",
      "80/80 [==============================] - 0s 2ms/step - loss: 0.0011 - accuracy: 0.9996\n",
      "Epoch 93/100\n",
      "80/80 [==============================] - 0s 2ms/step - loss: 6.9779e-05 - accuracy: 1.0000\n",
      "Epoch 94/100\n",
      "80/80 [==============================] - 0s 2ms/step - loss: 1.4650e-04 - accuracy: 1.0000\n",
      "Epoch 95/100\n",
      "80/80 [==============================] - 0s 2ms/step - loss: 3.6494e-05 - accuracy: 1.0000\n",
      "Epoch 96/100\n",
      "80/80 [==============================] - 0s 2ms/step - loss: 2.0543e-04 - accuracy: 1.0000\n",
      "Epoch 97/100\n",
      "80/80 [==============================] - 0s 2ms/step - loss: 7.2855e-04 - accuracy: 0.9996\n",
      "Epoch 98/100\n",
      "80/80 [==============================] - 0s 2ms/step - loss: 9.4433e-04 - accuracy: 0.9992\n",
      "Epoch 99/100\n",
      "80/80 [==============================] - 0s 2ms/step - loss: 5.3941e-05 - accuracy: 1.0000\n",
      "Epoch 100/100\n",
      "80/80 [==============================] - 0s 2ms/step - loss: 1.1385e-04 - accuracy: 1.0000\n"
     ]
    },
    {
     "data": {
      "text/plain": [
       "<keras.callbacks.History at 0x7fd4946f3df0>"
      ]
     },
     "execution_count": 10,
     "metadata": {},
     "output_type": "execute_result"
    }
   ],
   "source": [
    "#Initialising Artificial Neural Network (ANN)\n",
    "\n",
    "ANN = tf.keras.models.Sequential()\n",
    "\n",
    "#Creating Hidden Layers\n",
    "\n",
    "#First Hidden Layer\n",
    "    # Units - number or neurons & Activation - activation function used\n",
    "ANN.add(tf.keras.layers.Dense(units = 32,activation = \"relu\"))\n",
    "\n",
    "#Second Hidden Layer\n",
    "ANN.add(tf.keras.layers.Dense(units = 18,activation = \"relu\"))\n",
    "\n",
    "#Layer to avoid overfitting\n",
    "ANN.add(tf.keras.layers.Dropout(0.2))\n",
    "\n",
    "#Creating Output Layer\n",
    "    # units set to the number of categories in region & activation \"softmax\" for multiclass classification\n",
    "ANN.add(tf.keras.layers.Dense(units = 3,activation=\"softmax\",kernel_initializer=\"normal\"))\n",
    "\n",
    "#Compiling Artificial Neural Network (ANN)\n",
    "    # loss function - categorical_crossentropy for multiclass classification\n",
    "ANN.compile(optimizer=\"adam\",loss=\"categorical_crossentropy\",metrics=['accuracy'])\n",
    "\n",
    "#Fitting Artificial Neural Network (ANN)\n",
    "ANN.fit(x_train,y_train,batch_size = 32,epochs = 100)"
   ]
  },
  {
   "cell_type": "markdown",
   "id": "45fd4506",
   "metadata": {},
   "source": [
    "### 2.2.2 Creating K-Nearest Neighbors, Logistic Regression, SVM, & Random Forest"
   ]
  },
  {
   "cell_type": "code",
   "execution_count": 11,
   "id": "547713d1",
   "metadata": {},
   "outputs": [
    {
     "name": "stdout",
     "output_type": "stream",
     "text": [
      "Accuracy of OneVsRestClassifier(estimator=KNeighborsClassifier()) on training set : 0.2555860446883575\n",
      "Accuracy of OneVsRestClassifier(estimator=KNeighborsClassifier()) on test set : 0.2006269592476489\n",
      "Accuracy of OneVsRestClassifier(estimator=LogisticRegression()) on training set : 1.0\n",
      "Accuracy of OneVsRestClassifier(estimator=LogisticRegression()) on test set : 0.603448275862069\n",
      "Accuracy of OneVsRestClassifier(estimator=SVC()) on training set : 1.0\n",
      "Accuracy of OneVsRestClassifier(estimator=SVC()) on test set : 0.04231974921630094\n",
      "Accuracy of OneVsRestClassifier(estimator=RandomForestClassifier()) on training set : 0.9984319874558997\n",
      "Accuracy of OneVsRestClassifier(estimator=RandomForestClassifier()) on test set : 0.6018808777429467\n"
     ]
    }
   ],
   "source": [
    "# Initialzing a list with all of the other Machine Learning Algorithms\n",
    "\n",
    "models = {\n",
    "    'K-Nearest Neighbors' : KNeighborsClassifier(),\n",
    "    'Logistic Regression' : LogisticRegression(),\n",
    "    'Support Vector Machine' : SVC(),\n",
    "    'Random Forest' : RandomForestClassifier()  \n",
    "}\n",
    "\n",
    "# Creating a loop to imbed each machine learning algorithm in OneVsRestClassifier \n",
    "# Converts the Multiclass problem into multiple binary sets\n",
    "model_list=[]\n",
    "for model in models.values():\n",
    "    model_list.append(OneVsRestClassifier(model))\n",
    "model_list\n",
    "\n",
    "# Creating a loop to perfrom Fitting on eacg algorithm \n",
    "for i in model_list:\n",
    "    i.fit(x_train, y_train)\n",
    "\n",
    "# Evaluating the accuracy of each algorithm\n",
    "for count, value in enumerate(model_list):\n",
    "    print(f\"Accuracy of {value} on training set :\", model_list[count].score(x_train, y_train))\n",
    "    print(f\"Accuracy of {value} on test set :\", model_list[count].score(x_test, y_test))\n",
    "    \n",
    "# Code sourced from https://www.kaggle.com/code/omkyaghav/resume-screening-using-nlp-different-ml-algorithms"
   ]
  },
  {
   "cell_type": "markdown",
   "id": "c7170676",
   "metadata": {},
   "source": [
    "### 2.3 Evaluating the performance of the Algorithms"
   ]
  },
  {
   "cell_type": "code",
   "execution_count": 12,
   "id": "70750e78",
   "metadata": {},
   "outputs": [
    {
     "name": "stdout",
     "output_type": "stream",
     "text": [
      "OneVsRestClassifier(estimator=KNeighborsClassifier()) classification report\n",
      "--------------------------------------------------------------------------------\n"
     ]
    },
    {
     "name": "stderr",
     "output_type": "stream",
     "text": [
      "/opt/anaconda3/lib/python3.8/site-packages/sklearn/metrics/_classification.py:1245: UndefinedMetricWarning: Precision and F-score are ill-defined and being set to 0.0 in labels with no predicted samples. Use `zero_division` parameter to control this behavior.\n",
      "  _warn_prf(average, modifier, msg_start, len(result))\n"
     ]
    },
    {
     "name": "stdout",
     "output_type": "stream",
     "text": [
      "              precision    recall  f1-score   support\n",
      "\n",
      "           0       0.00      0.00      0.00       152\n",
      "           1       0.20      1.00      0.33       128\n",
      "           2       0.00      0.00      0.00       358\n",
      "\n",
      "   micro avg       0.20      0.20      0.20       638\n",
      "   macro avg       0.07      0.33      0.11       638\n",
      "weighted avg       0.04      0.20      0.07       638\n",
      " samples avg       0.20      0.20      0.20       638\n",
      "\n",
      "********************************************************************************\n",
      " \n",
      "OneVsRestClassifier(estimator=LogisticRegression()) classification report\n",
      "--------------------------------------------------------------------------------\n",
      "              precision    recall  f1-score   support\n",
      "\n",
      "           0       1.00      0.09      0.16       152\n",
      "           1       1.00      0.11      0.20       128\n",
      "           2       0.59      1.00      0.74       358\n",
      "\n",
      "   micro avg       0.60      0.60      0.60       638\n",
      "   macro avg       0.86      0.40      0.36       638\n",
      "weighted avg       0.77      0.60      0.49       638\n",
      " samples avg       0.60      0.60      0.60       638\n",
      "\n",
      "********************************************************************************\n",
      " \n",
      "OneVsRestClassifier(estimator=SVC()) classification report\n",
      "--------------------------------------------------------------------------------\n"
     ]
    },
    {
     "name": "stderr",
     "output_type": "stream",
     "text": [
      "/opt/anaconda3/lib/python3.8/site-packages/sklearn/metrics/_classification.py:1245: UndefinedMetricWarning: Precision and F-score are ill-defined and being set to 0.0 in labels with no predicted samples. Use `zero_division` parameter to control this behavior.\n",
      "  _warn_prf(average, modifier, msg_start, len(result))\n"
     ]
    },
    {
     "name": "stdout",
     "output_type": "stream",
     "text": [
      "              precision    recall  f1-score   support\n",
      "\n",
      "           0       0.24      1.00      0.39       152\n",
      "           1       0.20      1.00      0.34       128\n",
      "           2       0.00      0.00      0.00       358\n",
      "\n",
      "   micro avg       0.22      0.44      0.30       638\n",
      "   macro avg       0.15      0.67      0.24       638\n",
      "weighted avg       0.10      0.44      0.16       638\n",
      " samples avg       0.24      0.44      0.31       638\n",
      "\n",
      "********************************************************************************\n",
      " \n",
      "OneVsRestClassifier(estimator=RandomForestClassifier()) classification report\n",
      "--------------------------------------------------------------------------------\n",
      "              precision    recall  f1-score   support\n",
      "\n",
      "           0       1.00      0.09      0.16       152\n",
      "           1       1.00      0.10      0.18       128\n",
      "           2       0.59      1.00      0.74       358\n",
      "\n",
      "   micro avg       0.60      0.60      0.60       638\n",
      "   macro avg       0.86      0.40      0.36       638\n",
      "weighted avg       0.77      0.60      0.49       638\n",
      " samples avg       0.60      0.60      0.60       638\n",
      "\n",
      "********************************************************************************\n",
      " \n"
     ]
    },
    {
     "name": "stderr",
     "output_type": "stream",
     "text": [
      "/opt/anaconda3/lib/python3.8/site-packages/sklearn/metrics/_classification.py:1245: UndefinedMetricWarning: Precision and F-score are ill-defined and being set to 0.0 in samples with no predicted labels. Use `zero_division` parameter to control this behavior.\n",
      "  _warn_prf(average, modifier, msg_start, len(result))\n"
     ]
    }
   ],
   "source": [
    "for count, value in enumerate(model_list):\n",
    "    print(f'{value} classification report')\n",
    "    print(\"-\"*80)\n",
    "    print(classification_report(y_test, model_list[count].predict(x_test)))\n",
    "    print(\"*\"*80)\n",
    "    print(\" \")"
   ]
  },
  {
   "cell_type": "code",
   "execution_count": 13,
   "id": "b4f5fdf0",
   "metadata": {},
   "outputs": [
    {
     "name": "stdout",
     "output_type": "stream",
     "text": [
      "20/20 [==============================] - 0s 1ms/step - loss: 8.6784 - accuracy: 0.6034\n"
     ]
    },
    {
     "data": {
      "text/plain": [
       "[8.678400039672852, 0.6034482717514038]"
      ]
     },
     "execution_count": 13,
     "metadata": {},
     "output_type": "execute_result"
    }
   ],
   "source": [
    "#Evaluating the accuracy of the Artificial Neural Network\n",
    "\n",
    "ANN.evaluate(x_test, y_test)"
   ]
  },
  {
   "cell_type": "code",
   "execution_count": 14,
   "id": "48f4bf6d",
   "metadata": {},
   "outputs": [
    {
     "data": {
      "image/png": "[encoded data removed]",
      "text/plain": [
       "<Figure size 576x360 with 1 Axes>"
      ]
     },
     "metadata": {
      "needs_background": "light"
     },
     "output_type": "display_data"
    }
   ],
   "source": [
    "# Create a plot showcasing the Accuracy Comparison Across Differnt Algorithms\n",
    "plt.figure(figsize=(8,5))\n",
    "my_cmap = plt.get_cmap(\"viridis\")\n",
    "algorithms = ['ANN','K-Nearest Neighbors', 'Logistic Regression','SVM','Random Forest']\n",
    "accuracies = [0.6034,0.07,0.49,0.16,0.49]\n",
    "plt.bar(algorithms, accuracies, width = 0.4)\n",
    "plt.xticks(rotation=75)\n",
    "plt.xlabel(\"Algorithm Type\")\n",
    "plt.ylabel(\"Accuracy Score\")\n",
    "plt.title(\"Accuracy Comparison Across Differnt Algorithms\")\n",
    "plt.show()"
   ]
  },
  {
   "cell_type": "markdown",
   "id": "765b1d23",
   "metadata": {},
   "source": [
    "## 3. Discussion & Conclusion\n",
    "\n",
    "In conclusion, given the accuracy matrices, my hypothesis was neither supported nor denied. The Neural Network indeed had one of the highest accuracies with a score of nearly 61 percent. However, the logistic regression and random forest models were relatively close with an accuracy of 49 percent. Given my findings I would still recommend using a Neural Network because additional changes can be made to optimize the results. For instance, further manipulating the weights, changing the number of nodes, and adding more hidden layers. Making sure to take into account that you do not want to over fit the data. There is also the option of using Knowledge Based Artificial Neural Networks (KBANN), Convolutional Neural Networks (CNN), and Recurrent Neural Network (RNN)."
   ]
  },
  {
   "cell_type": "markdown",
   "id": "136232a3",
   "metadata": {},
   "source": [
    "## 4. References\n",
    "\n",
    "Data Science in 5 minutes: What is one hot encoding? Educative. (n.d.). Retrieved April 28, 2023, from https://www.educative.io/blog/one-hot-encoding \n",
    "\n",
    "Hazra, A. (2022, August 3). Top 7 cross-validation techniques with Python Code. Analytics Vidhya. Retrieved April 28, 2023, from https://www.analyticsvidhya.com/blog/2021/11/top-7-cross-validation-techniques-with-python-code/ \n",
    "\n",
    "Shrutimechlearn. (2019, April 7). Deep Tutorial 1 ann and Classification. Kaggle. Retrieved April 28, 2023, from https://www.kaggle.com/code/shrutimechlearn/deep-tutorial-1-ann-and-classification \n",
    "\n",
    "UCI Machine Learning Repository: Molecular Biology (splice-junction gene sequences) data set. (n.d.). Retrieved April 28, 2023, from https://archive.ics.uci.edu/ml/datasets/Molecular+Biology+(Splice-junction+Gene+Sequences) "
   ]
  }
 ],
 "metadata": {
  "kernelspec": {
   "display_name": "Python 3",
   "language": "python",
   "name": "python3"
  },
  "language_info": {
   "codemirror_mode": {
    "name": "ipython",
    "version": 3
   },
   "file_extension": ".py",
   "mimetype": "text/x-python",
   "name": "python",
   "nbconvert_exporter": "python",
   "pygments_lexer": "ipython3",
   "version": "3.8.8"
  }
 },
 "nbformat": 4,
 "nbformat_minor": 5
}
